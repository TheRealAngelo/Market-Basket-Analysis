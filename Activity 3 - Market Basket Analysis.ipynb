{
 "cells": [
  {
   "cell_type": "code",
   "execution_count": 1,
   "id": "7feecb49-df8c-47f4-8845-2093523b356d",
   "metadata": {},
   "outputs": [
    {
     "name": "stdout",
     "output_type": "stream",
     "text": [
      "Requirement already satisfied: pandas in c:\\users\\moral\\appdata\\local\\programs\\python\\python313\\lib\\site-packages (2.3.0)\n",
      "Requirement already satisfied: mlxtend in c:\\users\\moral\\appdata\\local\\programs\\python\\python313\\lib\\site-packages (0.23.4)\n",
      "Requirement already satisfied: numpy>=1.26.0 in c:\\users\\moral\\appdata\\local\\programs\\python\\python313\\lib\\site-packages (from pandas) (2.3.0)\n",
      "Requirement already satisfied: python-dateutil>=2.8.2 in c:\\users\\moral\\appdata\\local\\programs\\python\\python313\\lib\\site-packages (from pandas) (2.9.0.post0)\n",
      "Requirement already satisfied: pytz>=2020.1 in c:\\users\\moral\\appdata\\local\\programs\\python\\python313\\lib\\site-packages (from pandas) (2025.2)\n",
      "Requirement already satisfied: tzdata>=2022.7 in c:\\users\\moral\\appdata\\local\\programs\\python\\python313\\lib\\site-packages (from pandas) (2025.2)\n",
      "Requirement already satisfied: scipy>=1.2.1 in c:\\users\\moral\\appdata\\local\\programs\\python\\python313\\lib\\site-packages (from mlxtend) (1.15.3)\n",
      "Requirement already satisfied: scikit-learn>=1.3.1 in c:\\users\\moral\\appdata\\local\\programs\\python\\python313\\lib\\site-packages (from mlxtend) (1.7.0)\n",
      "Requirement already satisfied: matplotlib>=3.0.0 in c:\\users\\moral\\appdata\\local\\programs\\python\\python313\\lib\\site-packages (from mlxtend) (3.10.3)\n",
      "Requirement already satisfied: joblib>=0.13.2 in c:\\users\\moral\\appdata\\local\\programs\\python\\python313\\lib\\site-packages (from mlxtend) (1.5.1)\n",
      "Requirement already satisfied: contourpy>=1.0.1 in c:\\users\\moral\\appdata\\local\\programs\\python\\python313\\lib\\site-packages (from matplotlib>=3.0.0->mlxtend) (1.3.2)\n",
      "Requirement already satisfied: cycler>=0.10 in c:\\users\\moral\\appdata\\local\\programs\\python\\python313\\lib\\site-packages (from matplotlib>=3.0.0->mlxtend) (0.12.1)\n",
      "Requirement already satisfied: fonttools>=4.22.0 in c:\\users\\moral\\appdata\\local\\programs\\python\\python313\\lib\\site-packages (from matplotlib>=3.0.0->mlxtend) (4.58.4)\n",
      "Requirement already satisfied: kiwisolver>=1.3.1 in c:\\users\\moral\\appdata\\local\\programs\\python\\python313\\lib\\site-packages (from matplotlib>=3.0.0->mlxtend) (1.4.8)\n",
      "Requirement already satisfied: packaging>=20.0 in c:\\users\\moral\\appdata\\local\\programs\\python\\python313\\lib\\site-packages (from matplotlib>=3.0.0->mlxtend) (25.0)\n",
      "Requirement already satisfied: pillow>=8 in c:\\users\\moral\\appdata\\local\\programs\\python\\python313\\lib\\site-packages (from matplotlib>=3.0.0->mlxtend) (11.2.1)\n",
      "Requirement already satisfied: pyparsing>=2.3.1 in c:\\users\\moral\\appdata\\local\\programs\\python\\python313\\lib\\site-packages (from matplotlib>=3.0.0->mlxtend) (3.2.3)\n",
      "Requirement already satisfied: six>=1.5 in c:\\users\\moral\\appdata\\local\\programs\\python\\python313\\lib\\site-packages (from python-dateutil>=2.8.2->pandas) (1.17.0)\n",
      "Requirement already satisfied: threadpoolctl>=3.1.0 in c:\\users\\moral\\appdata\\local\\programs\\python\\python313\\lib\\site-packages (from scikit-learn>=1.3.1->mlxtend) (3.6.0)\n"
     ]
    }
   ],
   "source": [
    "!pip install pandas mlxtend"
   ]
  },
  {
   "cell_type": "code",
   "execution_count": 2,
   "id": "daa79a6a-4053-4c1d-a143-3294dff07e10",
   "metadata": {},
   "outputs": [],
   "source": [
    "import pandas as pd\n",
    "from mlxtend.frequent_patterns import apriori, association_rules"
   ]
  },
  {
   "cell_type": "code",
   "execution_count": 3,
   "id": "295999cb-3c58-47a6-bb29-ec76b9dc6ca7",
   "metadata": {},
   "outputs": [],
   "source": [
    "df = pd.read_csv('MBA.csv',low_memory=False)"
   ]
  },
  {
   "cell_type": "code",
   "execution_count": 4,
   "id": "cd7d6b17-8c0e-4755-95fd-ef7b1c484f9a",
   "metadata": {},
   "outputs": [],
   "source": [
    "df.drop_duplicates(inplace=True)\n",
    "df.dropna(subset=['BillNo', 'Itemname'], inplace=True)"
   ]
  },
  {
   "cell_type": "code",
   "execution_count": 5,
   "id": "0f1b85b4-a8b5-4962-8992-2f8e8bf58779",
   "metadata": {},
   "outputs": [],
   "source": [
    "basket = df.groupby(['BillNo', 'Itemname'])['Quantity'].sum().unstack().fillna(0)\n",
    "basket = basket.astype(bool)"
   ]
  },
  {
   "cell_type": "code",
   "execution_count": 6,
   "id": "240bc987-038a-4b44-9417-1f17da7d8abf",
   "metadata": {},
   "outputs": [],
   "source": [
    "frequent_itemsets = apriori(basket, min_support=0.02, use_colnames=True)"
   ]
  },
  {
   "cell_type": "code",
   "execution_count": 7,
   "id": "942432f5-d523-46ae-aae2-bd6466a717f0",
   "metadata": {},
   "outputs": [],
   "source": [
    "rules = association_rules(frequent_itemsets, metric=\"lift\", min_threshold=1)"
   ]
  },
  {
   "cell_type": "code",
   "execution_count": 8,
   "id": "c1f76dd6-b0d8-4c82-ba10-2d1b0ee075ae",
   "metadata": {},
   "outputs": [],
   "source": [
    "strong_rules = rules[(rules['confidence'] >= 0.5) & (rules['lift'] >= 1.2)]"
   ]
  },
  {
   "cell_type": "code",
   "execution_count": 9,
   "id": "272afb87-dab9-49ea-9158-c3b93ad83d3e",
   "metadata": {},
   "outputs": [
    {
     "name": "stdout",
     "output_type": "stream",
     "text": [
      "{'60 TEATIME FAIRY CAKE CASES'} => {'PACK OF 72 RETROSPOT CAKE CASES'} | Support: 0.02, Confidence: 0.55, Lift: 8.61\n",
      "{'ALARM CLOCK BAKELIKE PINK'} => {'ALARM CLOCK BAKELIKE GREEN'} | Support: 0.02, Confidence: 0.54, Lift: 11.32\n",
      "{'ALARM CLOCK BAKELIKE RED'} => {'ALARM CLOCK BAKELIKE GREEN'} | Support: 0.03, Confidence: 0.62, Lift: 12.88\n",
      "{'ALARM CLOCK BAKELIKE GREEN'} => {'ALARM CLOCK BAKELIKE RED'} | Support: 0.03, Confidence: 0.65, Lift: 12.88\n",
      "{'ALARM CLOCK BAKELIKE PINK'} => {'ALARM CLOCK BAKELIKE RED'} | Support: 0.02, Confidence: 0.60, Lift: 11.77\n",
      "{'CHARLOTTE BAG PINK POLKADOT'} => {'CHARLOTTE BAG SUKI DESIGN'} | Support: 0.02, Confidence: 0.55, Lift: 12.77\n",
      "{'CHARLOTTE BAG PINK POLKADOT'} => {'RED RETROSPOT CHARLOTTE BAG'} | Support: 0.03, Confidence: 0.70, Lift: 13.85\n",
      "{'RED RETROSPOT CHARLOTTE BAG'} => {'CHARLOTTE BAG PINK POLKADOT'} | Support: 0.03, Confidence: 0.51, Lift: 13.85\n",
      "{'CHARLOTTE BAG SUKI DESIGN'} => {'RED RETROSPOT CHARLOTTE BAG'} | Support: 0.02, Confidence: 0.58, Lift: 11.35\n",
      "{'STRAWBERRY CHARLOTTE BAG'} => {'CHARLOTTE BAG SUKI DESIGN'} | Support: 0.02, Confidence: 0.58, Lift: 13.29\n",
      "{'WOODLAND CHARLOTTE BAG'} => {'CHARLOTTE BAG SUKI DESIGN'} | Support: 0.02, Confidence: 0.55, Lift: 12.62\n",
      "{'CHARLOTTE BAG SUKI DESIGN'} => {'WOODLAND CHARLOTTE BAG'} | Support: 0.02, Confidence: 0.52, Lift: 12.62\n",
      "{'SPACEBOY LUNCH BOX'} => {'DOLLY GIRL LUNCH BOX'} | Support: 0.03, Confidence: 0.59, Lift: 14.46\n",
      "{'DOLLY GIRL LUNCH BOX'} => {'SPACEBOY LUNCH BOX'} | Support: 0.03, Confidence: 0.63, Lift: 14.46\n",
      "{'DOTCOM POSTAGE'} => {'JUMBO BAG RED RETROSPOT'} | Support: 0.02, Confidence: 0.69, Lift: 6.71\n",
      "{'GARDENERS KNEELING PAD CUP OF TEA'} => {'GARDENERS KNEELING PAD KEEP CALM'} | Support: 0.03, Confidence: 0.72, Lift: 16.11\n",
      "{'GARDENERS KNEELING PAD KEEP CALM'} => {'GARDENERS KNEELING PAD CUP OF TEA'} | Support: 0.03, Confidence: 0.60, Lift: 16.11\n",
      "{'PINK REGENCY TEACUP AND SAUCER'} => {'GREEN REGENCY TEACUP AND SAUCER'} | Support: 0.03, Confidence: 0.82, Lift: 17.04\n",
      "{'GREEN REGENCY TEACUP AND SAUCER'} => {'PINK REGENCY TEACUP AND SAUCER'} | Support: 0.03, Confidence: 0.62, Lift: 17.04\n",
      "{'ROSES REGENCY TEACUP AND SAUCER'} => {'GREEN REGENCY TEACUP AND SAUCER'} | Support: 0.04, Confidence: 0.72, Lift: 14.96\n",
      "{'GREEN REGENCY TEACUP AND SAUCER'} => {'ROSES REGENCY TEACUP AND SAUCER'} | Support: 0.04, Confidence: 0.75, Lift: 14.96\n",
      "{'HEART OF WICKER LARGE'} => {'HEART OF WICKER SMALL'} | Support: 0.02, Confidence: 0.53, Lift: 9.04\n",
      "{'JUMBO  BAG BAROQUE BLACK WHITE'} => {'JUMBO BAG RED RETROSPOT'} | Support: 0.03, Confidence: 0.63, Lift: 6.14\n",
      "{'JUMBO BAG APPLES'} => {'JUMBO BAG RED RETROSPOT'} | Support: 0.03, Confidence: 0.56, Lift: 5.49\n",
      "{'JUMBO BAG PINK POLKADOT'} => {'JUMBO BAG RED RETROSPOT'} | Support: 0.04, Confidence: 0.68, Lift: 6.62\n",
      "{'JUMBO BAG WOODLAND ANIMALS'} => {'JUMBO BAG PINK POLKADOT'} | Support: 0.02, Confidence: 0.50, Lift: 8.34\n",
      "{'JUMBO BAG PINK VINTAGE PAISLEY'} => {'JUMBO BAG RED RETROSPOT'} | Support: 0.03, Confidence: 0.60, Lift: 5.87\n",
      "{'JUMBO BAG SCANDINAVIAN BLUE PAISLEY'} => {'JUMBO BAG RED RETROSPOT'} | Support: 0.02, Confidence: 0.68, Lift: 6.61\n",
      "{'JUMBO BAG SPACEBOY DESIGN'} => {'JUMBO BAG RED RETROSPOT'} | Support: 0.02, Confidence: 0.62, Lift: 6.12\n",
      "{'JUMBO BAG STRAWBERRY'} => {'JUMBO BAG RED RETROSPOT'} | Support: 0.03, Confidence: 0.65, Lift: 6.35\n",
      "{'JUMBO BAG WOODLAND ANIMALS'} => {'JUMBO BAG RED RETROSPOT'} | Support: 0.03, Confidence: 0.62, Lift: 6.11\n",
      "{'JUMBO SHOPPER VINTAGE RED PAISLEY'} => {'JUMBO BAG RED RETROSPOT'} | Support: 0.03, Confidence: 0.58, Lift: 5.68\n",
      "{'JUMBO STORAGE BAG SKULLS'} => {'JUMBO BAG RED RETROSPOT'} | Support: 0.02, Confidence: 0.59, Lift: 5.75\n",
      "{'JUMBO STORAGE BAG SUKI'} => {'JUMBO BAG RED RETROSPOT'} | Support: 0.04, Confidence: 0.61, Lift: 5.99\n",
      "{'RECYCLING BAG RETROSPOT'} => {'JUMBO BAG RED RETROSPOT'} | Support: 0.02, Confidence: 0.56, Lift: 5.46\n",
      "{'JUMBO BAG WOODLAND ANIMALS'} => {'JUMBO STORAGE BAG SUKI'} | Support: 0.02, Confidence: 0.52, Lift: 9.00\n",
      "{'LUNCH BAG  BLACK SKULL.'} => {'LUNCH BAG RED RETROSPOT'} | Support: 0.03, Confidence: 0.50, Lift: 6.58\n",
      "{'LUNCH BAG PINK POLKADOT'} => {'LUNCH BAG RED RETROSPOT'} | Support: 0.03, Confidence: 0.55, Lift: 7.25\n",
      "{'LUNCH BAG SUKI DESIGN'} => {'LUNCH BAG RED RETROSPOT'} | Support: 0.03, Confidence: 0.51, Lift: 6.74\n",
      "{'LUNCH BAG WOODLAND'} => {'LUNCH BAG RED RETROSPOT'} | Support: 0.03, Confidence: 0.52, Lift: 6.79\n",
      "{'PAPER CHAIN KIT VINTAGE CHRISTMAS'} => {\"PAPER CHAIN KIT 50'S CHRISTMAS\"} | Support: 0.03, Confidence: 0.67, Lift: 11.88\n",
      "{'PINK REGENCY TEACUP AND SAUCER'} => {'ROSES REGENCY TEACUP AND SAUCER'} | Support: 0.03, Confidence: 0.77, Lift: 15.45\n",
      "{'ROSES REGENCY TEACUP AND SAUCER'} => {'PINK REGENCY TEACUP AND SAUCER'} | Support: 0.03, Confidence: 0.56, Lift: 15.45\n",
      "{'RED HANGING HEART T-LIGHT HOLDER'} => {'WHITE HANGING HEART T-LIGHT HOLDER'} | Support: 0.02, Confidence: 0.66, Lift: 6.10\n",
      "{'STRAWBERRY CHARLOTTE BAG'} => {'RED RETROSPOT CHARLOTTE BAG'} | Support: 0.02, Confidence: 0.67, Lift: 13.23\n",
      "{'WOODLAND CHARLOTTE BAG'} => {'RED RETROSPOT CHARLOTTE BAG'} | Support: 0.02, Confidence: 0.61, Lift: 11.96\n",
      "{'WOODEN FRAME ANTIQUE WHITE'} => {'WOODEN PICTURE FRAME WHITE FINISH'} | Support: 0.03, Confidence: 0.56, Lift: 10.35\n",
      "{'PINK REGENCY TEACUP AND SAUCER', 'ROSES REGENCY TEACUP AND SAUCER'} => {'GREEN REGENCY TEACUP AND SAUCER'} | Support: 0.03, Confidence: 0.90, Lift: 18.73\n",
      "{'PINK REGENCY TEACUP AND SAUCER', 'GREEN REGENCY TEACUP AND SAUCER'} => {'ROSES REGENCY TEACUP AND SAUCER'} | Support: 0.03, Confidence: 0.85, Lift: 16.98\n",
      "{'ROSES REGENCY TEACUP AND SAUCER', 'GREEN REGENCY TEACUP AND SAUCER'} => {'PINK REGENCY TEACUP AND SAUCER'} | Support: 0.03, Confidence: 0.70, Lift: 19.34\n",
      "{'PINK REGENCY TEACUP AND SAUCER'} => {'ROSES REGENCY TEACUP AND SAUCER', 'GREEN REGENCY TEACUP AND SAUCER'} | Support: 0.03, Confidence: 0.70, Lift: 19.34\n",
      "{'ROSES REGENCY TEACUP AND SAUCER'} => {'PINK REGENCY TEACUP AND SAUCER', 'GREEN REGENCY TEACUP AND SAUCER'} | Support: 0.03, Confidence: 0.51, Lift: 16.98\n",
      "{'GREEN REGENCY TEACUP AND SAUCER'} => {'PINK REGENCY TEACUP AND SAUCER', 'ROSES REGENCY TEACUP AND SAUCER'} | Support: 0.03, Confidence: 0.53, Lift: 18.73\n",
      "{'JUMBO BAG PINK POLKADOT', 'JUMBO STORAGE BAG SUKI'} => {'JUMBO BAG RED RETROSPOT'} | Support: 0.02, Confidence: 0.80, Lift: 7.85\n",
      "{'JUMBO BAG PINK POLKADOT', 'JUMBO BAG RED RETROSPOT'} => {'JUMBO STORAGE BAG SUKI'} | Support: 0.02, Confidence: 0.50, Lift: 8.63\n",
      "{'JUMBO STORAGE BAG SUKI', 'JUMBO BAG RED RETROSPOT'} => {'JUMBO BAG PINK POLKADOT'} | Support: 0.02, Confidence: 0.57, Lift: 9.54\n"
     ]
    }
   ],
   "source": [
    "for idx, row in strong_rules.iterrows():\n",
    "    print(f\"{set(row['antecedents'])} => {set(row['consequents'])} | \"\n",
    "          f\"Support: {row['support']:.2f}, Confidence: {row['confidence']:.2f}, Lift: {row['lift']:.2f}\")"
   ]
  },
  {
   "cell_type": "code",
   "execution_count": 10,
   "id": "c5357e1a-1c0c-4d05-8dc9-5e42c5b551df",
   "metadata": {},
   "outputs": [],
   "source": [
    "strong_rules.to_csv('mba_strong_rules.csv', index=False)"
   ]
  }
 ],
 "metadata": {
  "kernelspec": {
   "display_name": "Python 3 (ipykernel)",
   "language": "python",
   "name": "python3"
  },
  "language_info": {
   "codemirror_mode": {
    "name": "ipython",
    "version": 3
   },
   "file_extension": ".py",
   "mimetype": "text/x-python",
   "name": "python",
   "nbconvert_exporter": "python",
   "pygments_lexer": "ipython3",
   "version": "3.13.5"
  }
 },
 "nbformat": 4,
 "nbformat_minor": 5
}
